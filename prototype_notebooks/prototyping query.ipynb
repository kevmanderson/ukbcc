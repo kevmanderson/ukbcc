{
 "cells": [
  {
   "cell_type": "code",
   "execution_count": 1,
   "metadata": {},
   "outputs": [],
   "source": [
    "import pandas as pd\n",
    "\n",
    "def construct_search_df(pathToShowcase: str, pathToCoding: str, pathToReadcode: str) -> pd.DataFrame:\n",
    "    '''Constructs one large dataframe from showcase.csv, codings.csv (downloaded through downloadCurrentShowcaseFiles), and readcodes.csv (provided)\n",
    "    \n",
    "    Keyword arguments:\n",
    "    ------------------\n",
    "    pathToShowcase: str\n",
    "        location of showcase.csv\n",
    "    pathToCoding: str\n",
    "        location of codings.csv\n",
    "    pathToReadcode: str\n",
    "        location of readcodes.csv\n",
    "\n",
    "    Returns:\n",
    "    --------\n",
    "    searchDf: pd.DataFrame\n",
    "        searchable dataframe with the columns [Field, FieldID, Coding, Value, Meaning,]\n",
    "    \n",
    "    '''\n",
    "    showcase = pd.read_csv(pathToShowcase, dtype=str)\n",
    "    codings = pd.read_csv(pathToCoding, dtype=str)\n",
    "    readcodes = pd.read_csv(pathToReadcode, dtype=str)\n",
    "    showcase_excerpt = showcase[['Field', 'FieldID', 'Coding']]\n",
    "    \n",
    "    readcodes = readcodes.query(\"type == 'read_2' or type == 'read_3'\").rename(columns={\"type\": \"Coding\", \"code\": \"Value\", \"description\": \"Meaning\"})\n",
    "    readcodes['Field'] = 'gp_clinical, ' + readcodes.Coding\n",
    "    readcodes['FieldID'] = readcodes.Coding\n",
    "    readcodes = readcodes.drop([\"Unnamed: 0\"], axis=1)\n",
    "    \n",
    "    searchDf = showcase_excerpt.merge(codings, how='outer', on=\"Coding\")\n",
    "    searchDf = pd.concat([searchDf,readcodes])\n",
    "    \n",
    "    searchDf.Coding = searchDf.Coding.astype('str')\n",
    "    searchDf.FieldID = searchDf.FieldID.astype('str')\n",
    "        \n",
    "    return searchDf\n",
    "\n",
    "\n",
    "def construct_candidate_df(searchDf: pd.DataFrame, searchTerms: list) -> pd.DataFrame:\n",
    "    '''Search dataframe searchDf for conditions containing searchTerms \n",
    "    \n",
    "    Keyword arguments:\n",
    "    ------------------\n",
    "    searchDf: pd.DataFrame\n",
    "        searchable dataframe with the columns [Field, FieldId, Coding, Value, Meaning]\n",
    "    searchTerms: list(str)\n",
    "        conditions to include in the search\n",
    "\n",
    "    Returns:\n",
    "    --------\n",
    "    searchDf: pd.DataFrame\n",
    "        filtererd dataframe with the columns [Field, FieldID, Coding, Value, Meaning]\n",
    "    \n",
    "    '''\n",
    "    searchTerms = [x.lower() for x in searchTerms]\n",
    "    \n",
    "    fields = searchDf.Field.str.lower().str.contains('|'.join(searchTerms), na = False)\n",
    "    meanings = searchDf.Meaning.str.lower().str.contains('|'.join(searchTerms), na = False)\n",
    "    searchDf = searchDf[fields].merge(searchDf[meanings], how='outer')\n",
    "    return searchDf\n",
    "\n",
    "\n",
    "def select_conditions(searchDf: pd.DataFrame, searchLogic: str = \"or\") -> dict():\n",
    "    '''Interactively search dataframe searchDf for conditions containing searchTerms. \n",
    "    \n",
    "    Keyword arguments:\n",
    "    ------------------\n",
    "    searchDf: pd.DataFrame\n",
    "        searchable dataframe with the columns [Field, FieldID, Coding, Value, Meaning]\n",
    "    searchLogic: str: [\"or\"], \"and\", \"not\"\n",
    "        \n",
    "    Returns:\n",
    "    --------\n",
    "    searchDict: dict\n",
    "          dictionary with three keys: and, or, and none.\n",
    "          each entry holds a list of tuples (Column number, 'gp_clinical, read_2', or 'gp_clinical, read_3' and search code or 'any') to be included in the search query.\n",
    "          by default, \"and\" and \"none\" will be empty.\n",
    "    '''\n",
    "    \n",
    "    codeColors = {\n",
    "        \"default\": '\\033[0m',\n",
    "        \"bold\": '\\033[1m'\n",
    "    }\n",
    "        \n",
    "    print(codeColors[\"bold\"] + 'The following fields have potentially relevant values. Please choose if you want to include all patients who have any value in this field [a], none [hit enter], or if you would like to choose specific values [c].' + codeColors[\"default\"])\n",
    "    choice = []\n",
    "    fieldTuples = [(searchDf.Field.loc[a], searchDf.FieldID.loc[a]) for a in searchDf.index]\n",
    "    for field in set(fieldTuples):\n",
    "        include = input(\"Include {}? [a/c/_] \".format(field[0]))\n",
    "        fieldCode = field[1]\n",
    "        if include == \"a\" or include == \"A\":\n",
    "            choice.append((fieldCode,'any'))\n",
    "        elif include == \"c\" or include == \"C\":\n",
    "            print(codeColors[\"bold\"] + \"Please choose which codes to include [i] or skip entry [hit enter], skip rest of field [s].\" + codeColors[\"default\"])\n",
    "            fieldDf = searchDf[searchDf.Field == field[0]]\n",
    "            meaningTuples = [(fieldDf.Meaning.loc[a], fieldDf.Value.loc[a]) for a in fieldDf.index]\n",
    "            for meaning in set(meaningTuples):\n",
    "                include = input('    Include {}? [i/_/s] '.format(meaning[0]))\n",
    "                if include == 'i' or include == 'I':\n",
    "                    choice.append((fieldCode,meaning[1]))\n",
    "                if include == 's' or include == 'S':\n",
    "                    break\n",
    "    searchDict = dict()\n",
    "    searchDict[searchLogic] = choice\n",
    "    return searchDict\n",
    "\n",
    "\n",
    "def update_inclusion_logic(searchDict: dict, searchDf: pd.DataFrame) -> dict:\n",
    "    '''Interactively update for logical search conditions. \n",
    "    \n",
    "    Keyword arguments:\n",
    "    ------------------\n",
    "    searchDict: dict\n",
    "          dictionary with three keys: and, or, and none.\n",
    "          each entry holds a list of tuples (Column number, 'gp_clinical, read_2', or 'gp_clinical, read_3' and search code or 'any') to be included in the search query.            \n",
    "    searchDf: pd.DataFrame\n",
    "        searchable dataframe with the columns [Field, FieldID, Coding, Value, Meaning]\n",
    "\n",
    "        \n",
    "    Returns:\n",
    "    --------\n",
    "    searchDict: dict\n",
    "          dictionary with three keys: and, or, and none.\n",
    "          each entry holds a list of tuples (Column number, 'gp_clinical, read_2', or 'gp_clinical, read_3' and search code or 'any') to be included in the search query.\n",
    "   '''\n",
    "    \n",
    "    \n",
    "    codeColors = {\n",
    "        \"default\": '\\033[0m',\n",
    "        \"bold\": '\\033[1m'\n",
    "    }\n",
    "    print(codeColors['bold'] + 'Please choose if the following conditions are mandatory (each patient in your cohort will have this condition) [m], optional (all patients in your cohort will have one or more of these conditions) [o], or undesired (none of the patients in your cohort will have this condition) [e]')\n",
    "    returnSearchDict = dict()\n",
    "    returnSearchDict[\"and\"] = []\n",
    "    returnSearchDict[\"or\"] = []\n",
    "    returnSearchDict[\"not\"] = []\n",
    "    \n",
    "    for logicKey in searchDict.keys():\n",
    "        for entry in searchDict[logicKey]:\n",
    "            field = entry[0]\n",
    "            value = entry[1]\n",
    "            print(entry)\n",
    "            print(field)\n",
    "            print(value)\n",
    "            if value != 'any':\n",
    "                dfRow = searchDf.query('FieldID == \"{}\" and Value == \"{}\"'.format(field, value)).iloc[0]\n",
    "                fieldDescription = dfRow['Field']\n",
    "                valueDescription = dfRow['Meaning']\n",
    "            else: \n",
    "                dfRow = searchDf.query('FieldID == \"{}\"'.format(field)).iloc[0]\n",
    "                fieldDescription = dfRow['Field']\n",
    "                valueDescription = 'any'\n",
    "\n",
    "            choice = input(\"{}, {}\".format(fieldDescription, valueDescription))\n",
    "\n",
    "            if choice == 'm' or choice == \"M\":\n",
    "                returnSearchDict['and'].append(entry)\n",
    "            elif choice == 'o' or choice == \"O\":\n",
    "                returnSearchDict['or'].append(entry)\n",
    "            elif choice == 'e' or choice == \"E\":\n",
    "                returnSearchDict['not'].append(entry)\n",
    "\n",
    "    return returnSearchDict"
   ]
  },
  {
   "cell_type": "code",
   "execution_count": 12,
   "metadata": {},
   "outputs": [],
   "source": [
    "downloadDirectory='../ukbb-cohort/dataFiles'\n",
    "\n",
    "pathToShowcase='../ukbb-cohort/dataFiles/showcase.csv'\n",
    "pathToCoding='../ukbb-cohort/dataFiles/codings.csv'\n",
    "pathToReadcode='../ukbb-cohort/dataFiles/readcodes.csv'\n",
    "\n",
    "searchTerms = ['borderline glaucoma']\n",
    "\n",
    "pathToCredentials = '.'\n",
    "driverType = 'chrome'\n",
    "pathToDriver = \"going_headless/chromedriver\""
   ]
  },
  {
   "cell_type": "code",
   "execution_count": 61,
   "metadata": {},
   "outputs": [
    {
     "name": "stdout",
     "output_type": "stream",
     "text": [
      "\u001b[1mThe following fields have potentially relevant values. Please choose if you want to include all patients who have any value in this field [a], none [hit enter], or if you would like to choose specific values [c].\u001b[0m\n"
     ]
    },
    {
     "name": "stdin",
     "output_type": "stream",
     "text": [
      "Include Diagnoses - secondary ICD9? [a/c/_]  \n",
      "Include gp_clinical, read_2? [a/c/_]  c\n"
     ]
    },
    {
     "name": "stdout",
     "output_type": "stream",
     "text": [
      "\u001b[1mPlease choose which codes to include [i] or skip entry [hit enter], skip rest of field [s].\u001b[0m\n"
     ]
    },
    {
     "name": "stdin",
     "output_type": "stream",
     "text": [
      "    Include Borderline glaucoma with anatomical narrow angle? [i/_/s]  i\n",
      "    Include Borderline glaucoma NOS? [i/_/s]  i\n",
      "    Include Borderline glaucoma? [i/_/s]  i\n",
      "    Include Borderline glaucoma steroid responder? [i/_/s]  i\n",
      "Include gp_clinical, read_3? [a/c/_]  c\n"
     ]
    },
    {
     "name": "stdout",
     "output_type": "stream",
     "text": [
      "\u001b[1mPlease choose which codes to include [i] or skip entry [hit enter], skip rest of field [s].\u001b[0m\n"
     ]
    },
    {
     "name": "stdin",
     "output_type": "stream",
     "text": [
      "    Include Borderline glaucoma? [i/_/s]  i\n",
      "    Include Borderline glaucoma steroid responder? [i/_/s]  i\n",
      "    Include (Borderline glaucoma) or (ocular hypertension) or (increased intra-ocular pressure)? [i/_/s]  i\n",
      "    Include Borderline glaucoma NOS? [i/_/s]  i\n",
      "    Include Borderline glaucoma? [i/_/s]  i\n",
      "Include Type of cancer: ICD9? [a/c/_]  \n",
      "Include Diagnoses - main ICD9? [a/c/_]  \n",
      "Include Diagnoses - ICD9? [a/c/_]  \n"
     ]
    }
   ],
   "source": [
    "searchDf = construct_search_df(pathToShowcase=pathToShowcase, pathToCoding=pathToCoding, pathToReadcode=pathToReadcode)\n",
    "searchDf = construct_candidate_df(searchDf=searchDf, searchTerms=searchTerms)\n",
    "searchDict = select_conditions(searchDf=searchDf)"
   ]
  },
  {
   "cell_type": "code",
   "execution_count": 63,
   "metadata": {},
   "outputs": [
    {
     "name": "stdout",
     "output_type": "stream",
     "text": [
      "\u001b[1mPlease choose if the following conditions are mandatory (each patient in your cohort will have this condition) [m], optional (all patients in your cohort will have one or more of these conditions) [o], or undesired (none of the patients in your cohort will have this condition) [e]\n",
      "('read_2', 'F4502')\n",
      "read_2\n",
      "F4502\n"
     ]
    },
    {
     "name": "stdin",
     "output_type": "stream",
     "text": [
      "gp_clinical, read_2, Borderline glaucoma with anatomical narrow angle m\n"
     ]
    },
    {
     "name": "stdout",
     "output_type": "stream",
     "text": [
      "('read_3', 'F450z')\n",
      "read_3\n",
      "F450z\n"
     ]
    },
    {
     "name": "stdin",
     "output_type": "stream",
     "text": [
      "gp_clinical, read_3, Borderline glaucoma NOS o\n"
     ]
    },
    {
     "name": "stdout",
     "output_type": "stream",
     "text": [
      "('read_3', 'XE18p')\n",
      "read_3\n",
      "XE18p\n"
     ]
    },
    {
     "name": "stdin",
     "output_type": "stream",
     "text": [
      "gp_clinical, read_3, (Borderline glaucoma) or (ocular hypertension) or (increased intra-ocular pressure) o\n"
     ]
    },
    {
     "name": "stdout",
     "output_type": "stream",
     "text": [
      "('read_2', 'F450z')\n",
      "read_2\n",
      "F450z\n"
     ]
    },
    {
     "name": "stdin",
     "output_type": "stream",
     "text": [
      "gp_clinical, read_2, Borderline glaucoma NOS o\n"
     ]
    },
    {
     "name": "stdout",
     "output_type": "stream",
     "text": [
      "('read_2', 'F450.')\n",
      "read_2\n",
      "F450.\n"
     ]
    },
    {
     "name": "stdin",
     "output_type": "stream",
     "text": [
      "gp_clinical, read_2, Borderline glaucoma m\n"
     ]
    },
    {
     "name": "stdout",
     "output_type": "stream",
     "text": [
      "('read_2', 'F4503')\n",
      "read_2\n",
      "F4503\n"
     ]
    },
    {
     "name": "stdin",
     "output_type": "stream",
     "text": [
      "gp_clinical, read_2, Borderline glaucoma steroid responder e\n"
     ]
    },
    {
     "name": "stdout",
     "output_type": "stream",
     "text": [
      "('read_3', 'XE18p')\n",
      "read_3\n",
      "XE18p\n"
     ]
    },
    {
     "name": "stdin",
     "output_type": "stream",
     "text": [
      "gp_clinical, read_3, (Borderline glaucoma) or (ocular hypertension) or (increased intra-ocular pressure) e\n"
     ]
    },
    {
     "name": "stdout",
     "output_type": "stream",
     "text": [
      "('read_3', 'F450.')\n",
      "read_3\n",
      "F450.\n"
     ]
    },
    {
     "name": "stdin",
     "output_type": "stream",
     "text": [
      "gp_clinical, read_3, Borderline glaucoma o\n"
     ]
    },
    {
     "name": "stdout",
     "output_type": "stream",
     "text": [
      "('read_3', 'F4503')\n",
      "read_3\n",
      "F4503\n"
     ]
    },
    {
     "name": "stdin",
     "output_type": "stream",
     "text": [
      "gp_clinical, read_3, Borderline glaucoma steroid responder o\n"
     ]
    }
   ],
   "source": [
    "searchDict = update_inclusion_logic(searchDict=searchDict, searchDf=searchDf)"
   ]
  },
  {
   "cell_type": "code",
   "execution_count": 69,
   "metadata": {},
   "outputs": [],
   "source": [
    "def _createGpClinicalQueryString(searchDict: dict) -> str:\n",
    "    \"\"\"Create search query for UKBB table `gp_clinical` given a searchDict.\n",
    "\n",
    "    Keyword arguments:\n",
    "    ------------------\n",
    "    searchCodeDict: dict\n",
    "        dictionary that was created using select_conditions or update_inclusion_logic function\n",
    "\n",
    "    Returns:\n",
    "    --------\n",
    "    queryString: str\n",
    "\n",
    "    The queryString then needs to be copied to the UKBB data website to download a list of relevant eids or used with download_gpclinical()\n",
    "    \"\"\"\n",
    "\n",
    "    queryString = 'SELECT distinct eid FROM gp_clinical WHERE ('\n",
    "\n",
    "    l = 0\n",
    "    for logicKey in searchDict.keys():\n",
    "        e = 0\n",
    "\n",
    "        if l != 0: \n",
    "            queryString += ') AND ('\n",
    "            \n",
    "        for entry in searchDict[logicKey]:\n",
    "            print(entry)\n",
    "\n",
    "            if entry[0] in ['read_2', 'read_3']:\n",
    "                field = entry[0]\n",
    "                code = entry[1]\n",
    "                if code == 'any':\n",
    "                    if logicKey != 'not':\n",
    "                        code = ' IS NOT NULL'\n",
    "                    else: \n",
    "                        code = ' IS NULL'\n",
    "                else: \n",
    "                    if logicKey != 'not':\n",
    "                        code = \" = '{}'\".format(code)\n",
    "                    else:\n",
    "                        code = \" <> '{}'\".format(code)\n",
    "                \n",
    "                if logicKey == \"and\": \n",
    "                    if e != 0:\n",
    "                        queryString += ' AND '\n",
    "                    queryString += field + code \n",
    "                    \n",
    "                elif logicKey == \"or\":\n",
    "                    if e != 0:\n",
    "                        queryString += ' OR '\n",
    "                    queryString += field + code \n",
    "                        \n",
    "                elif logicKey == \"not\":\n",
    "                    if e != 0:\n",
    "                        queryString += ' AND '\n",
    "                    queryString += field + code\n",
    "                e = e+1  \n",
    "                print(\"str: \" + queryString)\n",
    "                l += 1\n",
    "        \n",
    "    queryString += ')'\n",
    "    queryString = queryString.replace(' AND ()', '')\n",
    "    return queryString\n"
   ]
  },
  {
   "cell_type": "code",
   "execution_count": 68,
   "metadata": {},
   "outputs": [
    {
     "name": "stdout",
     "output_type": "stream",
     "text": [
      "('read_2', 'F4502')\n",
      "str: SELECT distinct eid FROM gp_clinical WHERE (read_2 = 'F4502'\n",
      "('read_2', 'F450.')\n",
      "str: SELECT distinct eid FROM gp_clinical WHERE (read_2 = 'F4502' AND read_2 = 'F450.'\n",
      "('read_3', 'F450z')\n",
      "str: SELECT distinct eid FROM gp_clinical WHERE (read_2 = 'F4502' AND read_2 = 'F450.') AND (read_3 = 'F450z'\n",
      "('read_3', 'XE18p')\n",
      "str: SELECT distinct eid FROM gp_clinical WHERE (read_2 = 'F4502' AND read_2 = 'F450.') AND (read_3 = 'F450z' OR read_3 = 'XE18p'\n",
      "('read_2', 'F450z')\n",
      "str: SELECT distinct eid FROM gp_clinical WHERE (read_2 = 'F4502' AND read_2 = 'F450.') AND (read_3 = 'F450z' OR read_3 = 'XE18p' OR read_2 = 'F450z'\n",
      "('read_3', 'F450.')\n",
      "str: SELECT distinct eid FROM gp_clinical WHERE (read_2 = 'F4502' AND read_2 = 'F450.') AND (read_3 = 'F450z' OR read_3 = 'XE18p' OR read_2 = 'F450z' OR read_3 = 'F450.'\n",
      "('read_3', 'F4503')\n",
      "str: SELECT distinct eid FROM gp_clinical WHERE (read_2 = 'F4502' AND read_2 = 'F450.') AND (read_3 = 'F450z' OR read_3 = 'XE18p' OR read_2 = 'F450z' OR read_3 = 'F450.' OR read_3 = 'F4503'\n",
      "('read_2', 'F4503')\n",
      "str: SELECT distinct eid FROM gp_clinical WHERE (read_2 = 'F4502' AND read_2 = 'F450.') AND (read_3 = 'F450z' OR read_3 = 'XE18p' OR read_2 = 'F450z' OR read_3 = 'F450.' OR read_3 = 'F4503') AND (read_2 <> 'F4503'\n",
      "('read_3', 'XE18p')\n",
      "str: SELECT distinct eid FROM gp_clinical WHERE (read_2 = 'F4502' AND read_2 = 'F450.') AND (read_3 = 'F450z' OR read_3 = 'XE18p' OR read_2 = 'F450z' OR read_3 = 'F450.' OR read_3 = 'F4503') AND (read_2 <> 'F4503' AND read_3 <> 'XE18p'\n"
     ]
    },
    {
     "data": {
      "text/plain": [
       "\"SELECT distinct eid FROM gp_clinical WHERE (read_2 = 'F4502' AND read_2 = 'F450.') AND (read_3 = 'F450z' OR read_3 = 'XE18p' OR read_2 = 'F450z' OR read_3 = 'F450.' OR read_3 = 'F4503') AND (read_2 <> 'F4503' AND read_3 <> 'XE18p')\""
      ]
     },
     "execution_count": 68,
     "metadata": {},
     "output_type": "execute_result"
    }
   ],
   "source": [
    "_writeSqlQueryString(searchDict)"
   ]
  },
  {
   "cell_type": "code",
   "execution_count": null,
   "metadata": {},
   "outputs": [],
   "source": []
  },
  {
   "cell_type": "code",
   "execution_count": 112,
   "metadata": {},
   "outputs": [],
   "source": [
    "eids =dict() \n",
    "\n",
    "and = 20002: oct and read_2: glaucoma\n",
    "\n",
    "eids['and'] = (set([1,2,3,4]) and set([3,4,5,6])) 'oct+eyeCondition' everyone with oct\n",
    "\n",
    "eids['or'] = [3,4,5] + [6] 'any glaucoma'\n",
    "eids['not'] = [5,6]\n"
   ]
  },
  {
   "cell_type": "code",
   "execution_count": 113,
   "metadata": {},
   "outputs": [
    {
     "data": {
      "text/plain": [
       "{3, 4}"
      ]
     },
     "execution_count": 113,
     "metadata": {},
     "output_type": "execute_result"
    }
   ],
   "source": [
    "set(set(eids['and']) and set(eids['or']))- set(eids['not']) "
   ]
  },
  {
   "cell_type": "code",
   "execution_count": 77,
   "metadata": {},
   "outputs": [
    {
     "data": {
      "text/plain": [
       "{3, 4, 5, 6}"
      ]
     },
     "execution_count": 77,
     "metadata": {},
     "output_type": "execute_result"
    }
   ],
   "source": [
    "set(set(andeids) and set(oreids))"
   ]
  },
  {
   "cell_type": "code",
   "execution_count": null,
   "metadata": {},
   "outputs": [],
   "source": []
  },
  {
   "cell_type": "code",
   "execution_count": 115,
   "metadata": {},
   "outputs": [],
   "source": [
    "# TODO: support manualQueries\n",
    "\n",
    "def query_databases(searchDict: dict, pathToMain: str, pathToCredentials: str, pathToDriver: str,  driverType: str, includeCodes: bool = True, timeOut: int = 120) -> dict:\n",
    "    \n",
    "    eids = dict()\n",
    "    eids['gp_clinical'] = dict()\n",
    "    eids['gp_clinical']['and'] = []\n",
    "    eids['gp_clinical']['or'] = []\n",
    "    eids['gp_clinical']['not'] = []\n",
    "    eids['main'] = dict()\n",
    "    eids['main']['and'] = []\n",
    "    eids['main']['or'] = []\n",
    "    eids['main']['not'] = []\n",
    "    \n",
    "# reorganise data\n",
    "    data = dict()\n",
    "    data['gp_clinical'] = dict()\n",
    "    data['gp_clinical']['and'] = []\n",
    "    data['gp_clinical']['or'] = []\n",
    "    data['gp_clinical']['not'] = []\n",
    "    \n",
    "    data['main'] = dict()\n",
    "    data['main']['and'] = []\n",
    "    data['main']['or'] = []\n",
    "    data['main']['not'] = []\n",
    "            \n",
    "    for logicKey in searchDict.keys():\n",
    "        for entry in searchDict[logicKey]:\n",
    "            column = entry[0]\n",
    "            code = entry[1]\n",
    "            if column in ['read_2', 'read_3']:\n",
    "                data['gp_clinical'][logicKey].append(entry)\n",
    "            else: \n",
    "                data['main'][logicKey].append(entry)\n",
    "                \n",
    "                \n",
    "# call upon the right function to get the eids\n",
    "    for database in data.keys():\n",
    "        if len(data[database]) == 0:\n",
    "            break\n",
    "\n",
    "        for logicKey in data[database]:\n",
    "            if len(data[database][logicKey]) == 0:\n",
    "                break\n",
    "            \n",
    "            if database == 'gp_clinical':\n",
    "                queryString = _create_gpc_query(data[database][logicKey], logicKey)\n",
    "                \n",
    "                eids = _query_gpc_data(queryString, pathToCredentials, pathToDriver, driverType, includeCodes, timeOut)\n",
    "                eids[database][logicKey] = eids\n",
    "                \n",
    "            elif database == 'main':\n",
    "                queryString = _create_mds_query(data[database][logicKey], logicKey)\n",
    "                \n",
    "#                 eids = _query_main_data(queryString, pathToMain)\n",
    "#                 eids[database][logicKey] = eids\n",
    "\n",
    "    \n",
    "#     construct set: (set(set(and)+set(and))+set(or))-set(not)\n",
    "    \n",
    "    eids = set(set(eids['gp_clinical']['and'] and eids['main']['and']) and (set(eids['gp_clinical']['or']) or set(eids['main']['or']))) - set(set(eids['gp_clinical']['not'] and eids['main']['not']))\n",
    "    return eids"
   ]
  },
  {
   "cell_type": "code",
   "execution_count": 114,
   "metadata": {},
   "outputs": [],
   "source": [
    "def _query_gpc_data(queryString: str, pathToCredentials: str, pathToDriver: str,  driverType: str, includeCodes: bool = True, timeOut: int = 120) -> list:\n",
    "    \"\"\"Queries UKBB database given a searchCodeDict and returns Eids of matching candidates.\n",
    "\n",
    "    Keyword arguments:\n",
    "    ------------------\n",
    "    queryString: str\n",
    "        string to query database. most likely created with _create_gpc_query\n",
    "    pathToCredentials: str\n",
    "    path to a .py file containing the variables:\n",
    "    applicationId: str\n",
    "        ID of the project with UKBB\n",
    "    username: str\n",
    "        UKBB user name\n",
    "    password: str\n",
    "        UKBB password\n",
    "    pathToDriver: str\n",
    "        path to the driver `chromedriver` used by selenium\n",
    "    driverType: str\n",
    "        driverType for selenium e.g chrome or firefox\n",
    "    includeCodes: bool [True]\n",
    "        set to False to get the inverse set. Useful to create control cohort.\n",
    "    timeOut: int [120]\n",
    "        time in seconds to wait for response from UKBB. Useful for more involved queries.\n",
    "\n",
    "    Returns:\n",
    "    --------\n",
    "    eids: list\n",
    "        List of eids matching the search criterion of the searchCodeDict\n",
    "    \"\"\"\n",
    "    supported_drivers = ['chrome', 'firefox']\n",
    "    driverType = driverType.lower()\n",
    "\n",
    "    if not path.exists(pathToCredentials):\n",
    "        sys.exit(\"Credentials file not found\")\n",
    "\n",
    "    if driverType not in supported_drivers:\n",
    "        raise Exception(\"Program only suports {} drivers, you provided {}. Please install relevant driver and browser. Instructions in README.md\".format(supported_drivers, driverType))\n",
    "\n",
    "    from importlib import import_module\n",
    "    cred = import_module(\"credentials\", package=pathToCredentials)\n",
    "\n",
    "#     queryString = _createGpClinicalQueryString(searchCodeDict)\n",
    "    payload =  download_gpclinical(queryString, cred.applicationId, cred.userName, cred.password, pathToDriver, driverType, timeOut)\n",
    "    response = _download_data(payload)\n",
    "    eids = _extract_eids(response)\n",
    "\n",
    "    if not includeCodes:\n",
    "        queryString = 'SELECT distinct eid FROM gp_clinical'\n",
    "        payload =  download_gpclinical(queryString, cred.applicationId, cred.userName, cred.password, pathToDriver, driverType, timeOut)\n",
    "        response = _download_data(payload)\n",
    "        alleids = _extract_eids(response)\n",
    "        eids = list(set(alleids) - set(eids))\n",
    "\n",
    "    return eids"
   ]
  },
  {
   "cell_type": "code",
   "execution_count": 109,
   "metadata": {},
   "outputs": [],
   "source": [
    "def _create_gpc_query(entries: tuple, logic) -> str:\n",
    "    queryString = 'SELECT distinct eid FROM gp_clinical WHERE'\n",
    "    e = 0\n",
    "    for entry in entries: \n",
    "        field = entry[0]\n",
    "        code = entry[1]\n",
    "        if code == 'any':\n",
    "            if logic != 'not':\n",
    "                code = ' IS NOT NULL'\n",
    "            else: \n",
    "                code = ' IS NULL'\n",
    "        else: \n",
    "            if logic != 'not':\n",
    "                code = \" = '{}'\".format(code)\n",
    "            else:\n",
    "                code = \" <> '{}'\".format(code)\n",
    "\n",
    "        if logic == \"and\": \n",
    "            if e != 0:\n",
    "                queryString += ' AND '\n",
    "            queryString += field + code \n",
    "\n",
    "        elif logic == \"or\":\n",
    "            if e != 0:\n",
    "                queryString += ' OR '\n",
    "            queryString += field + code \n",
    "\n",
    "        elif logic == \"not\":\n",
    "            if e != 0:\n",
    "                queryString += ' AND '\n",
    "            queryString += field + code\n",
    "        e = e+1  \n",
    "    return(queryString)\n",
    "    \n",
    "    \n",
    "def _create_mds_query(entries: tuple, logic) -> str:\n",
    "    return(entries)"
   ]
  },
  {
   "cell_type": "code",
   "execution_count": 101,
   "metadata": {},
   "outputs": [
    {
     "data": {
      "text/plain": [
       "{'and': [('read_2', 'F4502'), ('read_2', 'F450.')],\n",
       " 'or': [('read_3', 'F450z'),\n",
       "  ('read_3', 'XE18p'),\n",
       "  ('read_2', 'F450z'),\n",
       "  ('read_3', 'F450.'),\n",
       "  ('read_3', 'F4503')],\n",
       " 'not': [('read_2', 'F4503'), ('read_3', 'XE18p')]}"
      ]
     },
     "execution_count": 101,
     "metadata": {},
     "output_type": "execute_result"
    }
   ],
   "source": [
    "searchDict = update_inclusion_logic(searchDict)"
   ]
  },
  {
   "cell_type": "code",
   "execution_count": 110,
   "metadata": {},
   "outputs": [
    {
     "name": "stdout",
     "output_type": "stream",
     "text": [
      "{'gp_clinical': {'and': [('read_2', 'F4502'), ('read_2', 'F450.')], 'or': [('read_3', 'F450z'), ('read_3', 'XE18p'), ('read_2', 'F450z'), ('read_3', 'F450.'), ('read_3', 'F4503')], 'not': [('read_2', 'F4503'), ('read_3', 'XE18p')]}, 'main': {'and': [], 'or': [], 'not': []}}\n",
      "SELECT distinct eid FROM gp_clinical WHEREread_2 = 'F4502' AND read_2 = 'F450.'\n",
      "SELECT distinct eid FROM gp_clinical WHEREread_3 = 'F450z' OR read_3 = 'XE18p' OR read_2 = 'F450z' OR read_3 = 'F450.' OR read_3 = 'F4503'\n",
      "SELECT distinct eid FROM gp_clinical WHEREread_2 <> 'F4503' AND read_3 <> 'XE18p'\n"
     ]
    },
    {
     "data": {
      "text/plain": [
       "{'and': ['doing it'], 'or': ['doing it'], 'not': ['doing it']}"
      ]
     },
     "execution_count": 110,
     "metadata": {},
     "output_type": "execute_result"
    }
   ],
   "source": [
    "query_databases(searchDict)"
   ]
  },
  {
   "cell_type": "code",
   "execution_count": null,
   "metadata": {},
   "outputs": [],
   "source": [
    "'any' - include means all: anyone who has a value in that field. "
   ]
  }
 ],
 "metadata": {
  "kernelspec": {
   "display_name": "Python 3",
   "language": "python",
   "name": "python3"
  },
  "language_info": {
   "codemirror_mode": {
    "name": "ipython",
    "version": 3
   },
   "file_extension": ".py",
   "mimetype": "text/x-python",
   "name": "python",
   "nbconvert_exporter": "python",
   "pygments_lexer": "ipython3",
   "version": "3.7.6"
  }
 },
 "nbformat": 4,
 "nbformat_minor": 4
}
