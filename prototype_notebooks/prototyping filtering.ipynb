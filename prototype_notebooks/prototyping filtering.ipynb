{
 "cells": [
  {
   "cell_type": "code",
   "execution_count": 75,
   "metadata": {},
   "outputs": [],
   "source": [
    "import pandas as pd\n",
    "import requests"
   ]
  },
  {
   "cell_type": "code",
   "execution_count": 2,
   "metadata": {},
   "outputs": [],
   "source": [
    "def downloadCurrentShowcaseFiles():\n",
    "    '''Download showcase and coding files from ukbb website in case they are out of date. Stored in ./dataFiles.\n",
    "    '''\n",
    "    encoding = 'utf-8'\n",
    "    showcase = requests.get(\"https://biobank.ctsu.ox.ac.uk/~bbdatan/Data_Dictionary_Showcase.csv\")\n",
    "    with open('dataFiles/showcase.csv', 'w+') as f:\n",
    "        f.write(str(showcase.content, encoding))\n",
    "    codings = requests.get(\"https://biobank.ctsu.ox.ac.uk/~bbdatan/Codings_Showcase.csv\")\n",
    "    with open('dataFiles/codings.csv', 'w+') as f:\n",
    "        f.write(str(codings.content, encoding))"
   ]
  },
  {
   "cell_type": "code",
   "execution_count": 68,
   "metadata": {},
   "outputs": [],
   "source": [
    "def construct_search_df(pathToShowcase: str, pathToCoding: str, pathToReadcode: str) -> pd.DataFrame:\n",
    "    '''Constructs one large dataframe from showcase.csv, codings.csv (downloaded through downloadCurrentShowcaseFiles), and readcodes.csv (provided)\n",
    "    \n",
    "    Keyword arguments:\n",
    "    ------------------\n",
    "    pathToShowcase: str\n",
    "        location of showcase.csv\n",
    "    pathToCoding: str\n",
    "        location of codings.csv\n",
    "    pathToReadcode: str\n",
    "        location of readcodes.csv\n",
    "\n",
    "    Returns:\n",
    "    --------\n",
    "    searchDf: pd.DataFrame\n",
    "        searchable dataframe with the columns [Field, FieldID, Coding, Value, Meaning,]\n",
    "    \n",
    "    '''\n",
    "    showcase = pd.read_csv(pathToShowcase, dtype=str)\n",
    "    codings = pd.read_csv(pathToCoding, dtype=str)\n",
    "    readcodes = pd.read_csv(pathToReadcode, dtype=str)\n",
    "    showcase_excerpt = showcase[['Field', 'FieldID', 'Coding']]\n",
    "    \n",
    "    readcodes = readcodes.rename(columns={\"type\": \"Coding\", \"code\": \"Value\", \"description\": \"Meaning\"})\n",
    "    readcodes['Field'] = 'gp_clinical, ' + readcodes.Coding\n",
    "    readcodes['FieldID'] = readcodes.Coding\n",
    "    readcodes = readcodes.drop([\"Unnamed: 0\"], axis=1)\n",
    "    \n",
    "    searchDf = showcase_excerpt.merge(codings, how='outer', on=\"Coding\")\n",
    "    searchDf = pd.concat([searchDf,readcodes])\n",
    "    \n",
    "    searchDf.Coding = searchDf.Coding.astype('str')\n",
    "    searchDf.FieldID = searchDf.FieldID.astype('str')\n",
    "        \n",
    "    return searchDf\n"
   ]
  },
  {
   "cell_type": "code",
   "execution_count": 69,
   "metadata": {},
   "outputs": [],
   "source": [
    "def construct_candidate_df(searchDf: pd.DataFrame, searchTerms: list) -> pd.DataFrame:\n",
    "    '''Search dataframe searchDf for conditions containing searchTerms \n",
    "    \n",
    "    Keyword arguments:\n",
    "    ------------------\n",
    "    searchDf: pd.DataFrame\n",
    "        searchable dataframe with the columns [Field, FieldId, Coding, Value, Meaning]\n",
    "    searchTerms: list(str)\n",
    "        conditions to include in the search\n",
    "\n",
    "    Returns:\n",
    "    --------\n",
    "    searchDf: pd.DataFrame\n",
    "        filtererd dataframe with the columns [Field, FieldID, Coding, Value, Meaning]\n",
    "    \n",
    "    '''\n",
    "    searchTerms = [x.lower() for x in searchTerms]\n",
    "    \n",
    "    fields = searchDf.Field.str.lower().str.contains('|'.join(searchTerms), na = False)\n",
    "    meanings = searchDf.Meaning.str.lower().str.contains('|'.join(searchTerms), na = False)\n",
    "    searchDf = searchDf[fields].merge(searchDf[meanings], how='outer')\n",
    "    return searchDf"
   ]
  },
  {
   "cell_type": "code",
   "execution_count": 73,
   "metadata": {},
   "outputs": [],
   "source": [
    "def select_conditions(searchDf: pd.DataFrame, searchLogic: str = \"or\") -> dict():\n",
    "    '''Interactively search dataframe searchDf for conditions containing searchTerms. \n",
    "    \n",
    "    Keyword arguments:\n",
    "    ------------------\n",
    "    searchDf: pd.DataFrame\n",
    "        searchable dataframe with the columns [Field, FieldID, Coding, Value, Meaning]\n",
    "    searchLogic: str: [\"or\"], \"and\", \"not\"\n",
    "        \n",
    "    Returns:\n",
    "    --------\n",
    "    searchDict: dict\n",
    "          dictionary with three keys: and, or, and none.\n",
    "          each entry holds a list of tuples (Column number, 'gp_clinical, read_2', or 'gp_clinical, read_3' and search code or 'any') to be included in the search query.\n",
    "          by default, \"and\" and \"none\" will be empty.\n",
    "    '''\n",
    "    \n",
    "    codeColors = {\n",
    "        \"default\": '\\033[0m',\n",
    "        \"bold\": '\\033[1m'\n",
    "    }\n",
    "        \n",
    "    print(codeColors[\"bold\"] + 'The following fields have potentially relevant values. Please choose if you want to include all patients who have any value in this field [a], none [hit enter], or if you would like to choose specific values [c].' + codeColors[\"default\"])\n",
    "    choice = []\n",
    "    fieldTuples = [(searchDf.Field.loc[a], searchDf.FieldID.loc[a]) for a in searchDf.index]\n",
    "    for field in set(fieldTuples):\n",
    "        include = input(\"Include {}? [a/c/_] \".format(field[0]))\n",
    "        fieldCode = field[1]\n",
    "        if include == \"a\" or include == \"A\":\n",
    "            choice.append((fieldCode,'any'))\n",
    "        elif include == \"c\" or include == \"C\":\n",
    "            print(codeColors[\"bold\"] + \"Please choose which codes to include [i] or skip entry [hit enter], skip rest of field [s].\" + codeColors[\"default\"])\n",
    "            fieldDf = searchDf[searchDf.Field == field[0]]\n",
    "            meaningTuples = [(fieldDf.Meaning.loc[a], fieldDf.Value.loc[a]) for a in fieldDf.index]\n",
    "            for meaning in set(meaningTuples):\n",
    "                include = input('    Include {}? [i/_/s] '.format(meaning[0]))\n",
    "                if include == 'i' or include == 'I':\n",
    "                    choice.append((fieldCode,meaning[1]))\n",
    "                if include == 's' or include == 'S':\n",
    "                    break\n",
    "    searchDict = dict()\n",
    "    searchDict[searchLogic] = choice\n",
    "    return searchDict"
   ]
  },
  {
   "cell_type": "code",
   "execution_count": 74,
   "metadata": {},
   "outputs": [],
   "source": [
    "def update_inclusion_logic(searchDict: dict, searchDf: pd.DataFrame) -> dict:\n",
    "    '''Interactively update for logical search conditions. \n",
    "    \n",
    "    Keyword arguments:\n",
    "    ------------------\n",
    "    searchDict: dict\n",
    "          dictionary with three keys: and, or, and none.\n",
    "          each entry holds a list of tuples (Column number, 'gp_clinical, read_2', or 'gp_clinical, read_3' and search code or 'any') to be included in the search query.            \n",
    "    searchDf: pd.DataFrame\n",
    "        searchable dataframe with the columns [Field, FieldID, Coding, Value, Meaning]\n",
    "\n",
    "        \n",
    "    Returns:\n",
    "    --------\n",
    "    searchDict: dict\n",
    "          dictionary with three keys: and, or, and none.\n",
    "          each entry holds a list of tuples (Column number, 'gp_clinical, read_2', or 'gp_clinical, read_3' and search code or 'any') to be included in the search query.\n",
    "   '''\n",
    "    \n",
    "    \n",
    "    codeColors = {\n",
    "        \"default\": '\\033[0m',\n",
    "        \"bold\": '\\033[1m'\n",
    "    }\n",
    "    print(codeColors['bold'] + 'Please choose if the following conditions are mandatory (each patient in your cohort will have this condition) [m], optional (all patients in your cohort will have one or more of these conditions) [o], or undesired (none of the patients in your cohort will have this condition) [e]')\n",
    "    returnSearchDict = dict()\n",
    "    returnSearchDict[\"and\"] = []\n",
    "    returnSearchDict[\"or\"] = []\n",
    "    returnSearchDict[\"not\"] = []\n",
    "    \n",
    "    for logicKey in searchDict.keys():\n",
    "        for entry in searchDict[logicKey]:\n",
    "            field = entry[0]\n",
    "            value = entry[1]\n",
    "            print(entry)\n",
    "            print(field)\n",
    "            print(value)\n",
    "            if value != 'any':\n",
    "                dfRow = searchDf.query('FieldID == \"{}\" and Value == \"{}\"'.format(field, value)).iloc[0]\n",
    "                fieldDescription = dfRow['Field']\n",
    "                valueDescription = dfRow['Meaning']\n",
    "            else: \n",
    "                dfRow = searchDf.query('FieldID == \"{}\"'.format(field)).iloc[0]\n",
    "                fieldDescription = dfRow['Field']\n",
    "                valueDescription = 'any'\n",
    "\n",
    "            choice = input(\"{}, {}\".format(fieldDescription, valueDescription))\n",
    "\n",
    "            if choice == 'm' or choice == \"M\":\n",
    "                returnSearchDict['and'].append(entry)\n",
    "            elif choice == 'o' or choice == \"O\":\n",
    "                returnSearchDict['or'].append(entry)\n",
    "            elif choice == 'e' or choice == \"E\":\n",
    "                returnSearchDict['not'].append(entry)\n",
    "\n",
    "    return returnSearchDict"
   ]
  },
  {
   "cell_type": "code",
   "execution_count": 63,
   "metadata": {},
   "outputs": [
    {
     "name": "stdout",
     "output_type": "stream",
     "text": [
      "\u001b[1mThe following fields have potentially relevant values. Please choose if you want to include all patients who have any value in this field [a], none [hit enter], or if you would like to choose specific values [c].\u001b[0m\n",
      "('Diagnoses - ICD9', '41271')\n"
     ]
    },
    {
     "name": "stdin",
     "output_type": "stream",
     "text": [
      "Include Diagnoses - ICD9? [a/c/_]  \n"
     ]
    },
    {
     "name": "stdout",
     "output_type": "stream",
     "text": [
      "('Diagnoses - main ICD9', '41203')\n"
     ]
    },
    {
     "name": "stdin",
     "output_type": "stream",
     "text": [
      "Include Diagnoses - main ICD9? [a/c/_]  \n"
     ]
    },
    {
     "name": "stdout",
     "output_type": "stream",
     "text": [
      "('Type of cancer: ICD9', '40013')\n"
     ]
    },
    {
     "name": "stdin",
     "output_type": "stream",
     "text": [
      "Include Type of cancer: ICD9? [a/c/_]  \n"
     ]
    },
    {
     "name": "stdout",
     "output_type": "stream",
     "text": [
      "('gp_clinicalread_3', 'read_3')\n"
     ]
    },
    {
     "name": "stdin",
     "output_type": "stream",
     "text": [
      "Include gp_clinicalread_3? [a/c/_]  c\n"
     ]
    },
    {
     "name": "stdout",
     "output_type": "stream",
     "text": [
      "\u001b[1mPlease choose which codes to include [i] or skip entry [hit enter], skip rest of field [s].\u001b[0m\n",
      "gp_clinicalread_3\n",
      "5\n",
      "[('Borderline glaucoma', 'F450.'), ('Borderline glaucoma steroid responder', 'F4503'), ('Borderline glaucoma NOS', 'F450z'), ('(Borderline glaucoma) or (ocular hypertension) or (increased intra-ocular pressure)', 'XE18p'), ('Borderline glaucoma', 'XE18p')]\n"
     ]
    },
    {
     "name": "stdin",
     "output_type": "stream",
     "text": [
      "    Include Borderline glaucoma? [i/_/s]  i\n",
      "    Include Borderline glaucoma? [i/_/s]  i\n",
      "    Include Borderline glaucoma NOS? [i/_/s]  \n",
      "    Include (Borderline glaucoma) or (ocular hypertension) or (increased intra-ocular pressure)? [i/_/s]  \n",
      "    Include Borderline glaucoma steroid responder? [i/_/s]  \n"
     ]
    },
    {
     "name": "stdout",
     "output_type": "stream",
     "text": [
      "('Diagnoses - secondary ICD9', '41205')\n"
     ]
    },
    {
     "name": "stdin",
     "output_type": "stream",
     "text": [
      "Include Diagnoses - secondary ICD9? [a/c/_]  a\n"
     ]
    },
    {
     "name": "stdout",
     "output_type": "stream",
     "text": [
      "('gp_clinicalread_2', 'read_2')\n"
     ]
    },
    {
     "name": "stdin",
     "output_type": "stream",
     "text": [
      "Include gp_clinicalread_2? [a/c/_]  a\n"
     ]
    }
   ],
   "source": [
    "searchDf = _constructSearchDataframe(pathToShowcase='dataFiles/showcase.csv', pathToCoding='dataFiles/codings.csv', pathToReadcode='dataFiles/readcodes.csv')\n",
    "searchDf = construct_candidate_df(searchDf, ['Borderline glaucoma'])\n",
    "searchDict = select_conditions(searchDf)\n",
    "searchDict = update_inclusion_logic(searchDict, searchDf)"
   ]
  },
  {
   "cell_type": "markdown",
   "metadata": {},
   "source": [
    "## TODO\n",
    "\n",
    "* migrate"
   ]
  },
  {
   "cell_type": "code",
   "execution_count": null,
   "metadata": {},
   "outputs": [],
   "source": []
  },
  {
   "cell_type": "code",
   "execution_count": 80,
   "metadata": {},
   "outputs": [
    {
     "data": {
      "text/plain": [
       "['asd', 'asdd', 'ewf']"
      ]
     },
     "execution_count": 80,
     "metadata": {},
     "output_type": "execute_result"
    }
   ],
   "source": [
    "a = ['ASD', 'asdD', 'ewf']\n",
    "[x.lower() for x in a]"
   ]
  },
  {
   "cell_type": "markdown",
   "metadata": {},
   "source": [
    "## Radio button test"
   ]
  },
  {
   "cell_type": "code",
   "execution_count": 77,
   "metadata": {},
   "outputs": [],
   "source": [
    "import ipywidgets\n",
    "from ipywidgets import RadioButtons\n",
    "from IPython.display import display\n",
    "from ipywidgets import HBox, VBox, Label\n",
    "\n",
    "import functools"
   ]
  },
  {
   "cell_type": "code",
   "execution_count": 399,
   "metadata": {},
   "outputs": [],
   "source": [
    "def filterSearchDf(searchDf: pd.DataFrame, interactiveMode: str = \"notebook\") -> pd.DataFrame:\n",
    "    '''Interactive filtering of searchDf\n",
    "    \n",
    "    Keyword arguments:\n",
    "    ------------------\n",
    "    searchDf: pd.DataFrame\n",
    "        searchable dataframe with the columns [Field, Coding, Value, Meaning, include]\n",
    "    interactiveMode: str ['notebook', 'terminal']\n",
    "        notebook - displays ipyWidgets to allow for the construction of a cohort\n",
    "        terminal - uses input() to allow for the construction of a cohort\n",
    "\n",
    "    Returns:\n",
    "    --------\n",
    "    searchDf: pd.DataFrame\n",
    "        filtererd dataframe with the columns [Field, Coding, Value, Meaning, include]\n",
    "        where `include` is in {'irrelevant', 'all', 'any', 'not'} \n",
    "    '''\n",
    "    a = 0\n",
    "    buttons = []\n",
    "    fields = set(searchDf.Field)\n",
    "    \n",
    "    allButtons = dict()\n",
    "    \n",
    "    for field in fields:\n",
    "        fieldDf = searchDf[searchDf.Field == field]\n",
    "        allButtons[field] = dict()\n",
    "        choice = RadioButtons(options = [\"all\", \"any\", \"none\", \"irrelevant\", \"some\"], value=\"irrelevant\")#, description=field)\n",
    "        choice.observe(functools.partial(on_field_update, rows = searchDf[searchDf.Field == field]), names=\"value\")\n",
    "        parent = choice\n",
    "        allButtons[field]['parent'] = VBox([Label(field), choice])\n",
    "        allButtons[field]['children'] = []\n",
    "        for index in fieldDf.index:\n",
    "            meaning = str(fieldDf.loc[index][\"Meaning\"])\n",
    "            choice = RadioButtons(options = [\"all\", \"any\", \"none\", \"irrelevant\"], value=fieldDf.loc[index]['include'])#, description=str(meaning))\n",
    "            choice.observe(functools.partial(on_meaning_update, row = fieldDf.loc[index]), names=\"value\")\n",
    "            allButtons[field]['children'].append(VBox([Label(meaning), choice]))\n",
    "            \n",
    "            ipywidgets.dlink((parent, 'value'), (choice, 'value'))\n",
    "    groups = []\n",
    "    for i in allButtons:\n",
    "        groups.append(VBox([allButtons[i]['parent'], HBox(allButtons[i]['children'])]))\n",
    "    display(VBox(groups))\n",
    "    return searchDf\n",
    "    \n",
    "            \n",
    "\n",
    "def on_field_update(r, rows):\n",
    "    value = r['new']\n",
    "    if value != 'some':\n",
    "        rows['include'] = value\n",
    "\n",
    "def on_meaning_update(r, row):\n",
    "    value = r['new']\n",
    "    row['include'] = value"
   ]
  }
 ],
 "metadata": {
  "kernelspec": {
   "display_name": "Python 3",
   "language": "python",
   "name": "python3"
  },
  "language_info": {
   "codemirror_mode": {
    "name": "ipython",
    "version": 3
   },
   "file_extension": ".py",
   "mimetype": "text/x-python",
   "name": "python",
   "nbconvert_exporter": "python",
   "pygments_lexer": "ipython3",
   "version": "3.7.6"
  }
 },
 "nbformat": 4,
 "nbformat_minor": 4
}
