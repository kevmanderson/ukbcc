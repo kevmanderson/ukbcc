{
 "cells": [
  {
   "cell_type": "markdown",
   "metadata": {},
   "source": [
    "# UKBB Cohort Curation"
   ]
  },
  {
   "cell_type": "markdown",
   "metadata": {},
   "source": [
    "## Introduction "
   ]
  },
  {
   "cell_type": "markdown",
   "metadata": {},
   "source": [
    "This tool was created to facilitate the cohort curation from several data sources in the UK BioBank.\n",
    "\n",
    "Currently, we support querying:\n",
    "* the main datafile which includes survey responses, self-reported conditions, and hospital recorded conditions\n",
    "* the gp_clinical table within the SQL database accessible from the data portal, which contains data recorded by general practitioners\n",
    "\n",
    "This notebook provides a walk-through of how to use the module in a curation pipeline. Typically, such a pipeline will start with some general search terms that will be used to query the databases within UK Biobank. In this example, the relevant search terms are 'borderline glaucoma', 'eye disease and 'optical coherence tomography'. The aim is to create a cohort that has a 'bordline glaucoma' eye condition, does not have any other 'eye disease', and 'optical coherence tomography' imaging data available.\n",
    "\n",
    "Let's start by importing the module"
   ]
  },
  {
   "cell_type": "code",
   "execution_count": 1,
   "metadata": {},
   "outputs": [],
   "source": [
    "import ukbcohort as uk"
   ]
  },
  {
   "cell_type": "markdown",
   "metadata": {},
   "source": [
    "Next we generate a dictionary of the relevant datafield:code combinations with the appropriate conditional logic that satisfies our cohort requirements. In this example, we want all our participants to have a 'borderline glaucoma' condition, have OCT data available, and not have any other eye disease. We can configure this logic by specifying either \"any_of\", \"all_of\", or \"none_of\" keys within the dictionary, followed by the tuples of the datafield, code combinations. Conditions that are optionals, such as variations of 'borderline glaucoma' belong to the \"any_of\" key, whereas conditions that are undesired, such as variations of other 'eye diseases' belong to the 'none_of' key. Condtions that are necessary, such as the availability of 'optical coherence tomography' data, belong to the 'all_of' key. "
   ]
  },
  {
   "cell_type": "code",
   "execution_count": 2,
   "metadata": {},
   "outputs": [],
   "source": [
    "cohort_dictionary = {\"all_of\": [], \"any_of\": [[\"read_3\", \"F4252\"], [\"read_3\", \"F4251\"]], \"none_of\": []}\n",
    "{\"any_of\": [[\"read_3\", \"XE18j\"], [\"read_3\", \"F4251\"], [\"read_3\", \"F4252\"], [\"read_3\", \"XE18j\"], [\"read_3\", \"XE18j\"]]}"
   ]
  },
  {
   "cell_type": "markdown",
   "metadata": {},
   "source": [
    "The graphic belows displays a Venn diagram representing the conditiona logic specified in the dictionary above. "
   ]
  },
  {
   "cell_type": "markdown",
   "metadata": {},
   "source": [
    "<img width='50%' src=\"cohort_selection.png\" />"
   ]
  },
  {
   "cell_type": "markdown",
   "metadata": {},
   "source": [
    "The next step is to query the databases using this cohort_dictionary. The module will query the 'main' dataset, and optionally the 'gp_clinical' data as well. Querying both databases will ensure the most comprehensive search of the cohort within UK Biobank. We have to specify the path to the main dataset, and pass in the credentials to use to access the data portal website in order to access the GP clinical database. We can also optionall chose to write the participant IDs within our cohort to a file within \"write_dir\". "
   ]
  },
  {
   "cell_type": "code",
   "execution_count": 3,
   "metadata": {},
   "outputs": [
    {
     "ename": "AttributeError",
     "evalue": "module 'ukbcohort' has no attribute 'query'",
     "output_type": "error",
     "traceback": [
      "\u001b[0;31m---------------------------------------------------------------------------\u001b[0m",
      "\u001b[0;31mAttributeError\u001b[0m                            Traceback (most recent call last)",
      "\u001b[0;32m<ipython-input-3-e3ded1ad0efb>\u001b[0m in \u001b[0;36m<module>\u001b[0;34m\u001b[0m\n\u001b[1;32m      4\u001b[0m \u001b[0mwrite_dir\u001b[0m \u001b[0;34m=\u001b[0m \u001b[0;34m\"example_cohort\"\u001b[0m\u001b[0;34m\u001b[0m\u001b[0;34m\u001b[0m\u001b[0m\n\u001b[1;32m      5\u001b[0m \u001b[0;34m\u001b[0m\u001b[0m\n\u001b[0;32m----> 6\u001b[0;31m queries = uk.query.create_queries(cohort_criteria=cohort_criteria_updated, main_filename=main_filename,\n\u001b[0m\u001b[1;32m      7\u001b[0m                                portal_access=True)\n\u001b[1;32m      8\u001b[0m cohort_ids = uk.query.query_databases(cohort_criteria=cohort_dictionary, queries=queries, main_filename=main_filename, \n",
      "\u001b[0;31mAttributeError\u001b[0m: module 'ukbcohort' has no attribute 'query'"
     ]
    }
   ],
   "source": [
    "main_filename = \"../dataFiles/main_head100.csv\"\n",
    "cred_path = \"../credentials.py\"\n",
    "out_file = \"example_cohort.txt\"\n",
    "write_dir = \"example_cohort\"\n",
    "\n",
    "queries = uk.query.create_queries(cohort_criteria=cohort_criteria_updated, main_filename=main_filename,\n",
    "                               portal_access=True)\n",
    "cohort_ids = uk.query.query_databases(cohort_criteria=cohort_dictionary, queries=queries, main_filename=main_filename, \n",
    "                                      credentials_path=cred_path, write_dir=write_dir, \n",
    "                                      driver_path=driver_path, driver_type=driver_type, \n",
    "                                      timeout=120, portal_access=True, out_filename=out_filename, write=True)\n"
   ]
  },
  {
   "cell_type": "code",
   "execution_count": null,
   "metadata": {},
   "outputs": [],
   "source": []
  }
 ],
 "metadata": {
  "kernelspec": {
   "display_name": "Python 3",
   "language": "python",
   "name": "python3"
  },
  "language_info": {
   "codemirror_mode": {
    "name": "ipython",
    "version": 3
   },
   "file_extension": ".py",
   "mimetype": "text/x-python",
   "name": "python",
   "nbconvert_exporter": "python",
   "pygments_lexer": "ipython3",
   "version": "3.7.6"
  }
 },
 "nbformat": 4,
 "nbformat_minor": 4
}
