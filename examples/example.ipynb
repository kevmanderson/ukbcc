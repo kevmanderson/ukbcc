{
 "cells": [
  {
   "cell_type": "markdown",
   "metadata": {},
   "source": "# UKBB Cohort Curation"
  },
  {
   "cell_type": "markdown",
   "metadata": {},
   "source": "## Introduction "
  },
  {
   "cell_type": "markdown",
   "metadata": {},
   "source": "This tool was created to facilitate the cohort curation from several data sources in the UK BioBank.\n\nCurrently, we supports querying:\n* the main datafile which includes survey responses, self-reported conditions, and hospital recorded conditions\n* the gp_clinical table on the UKBB website, which contains data recorded by general practitioners"
  },
  {
   "cell_type": "code",
   "execution_count": 1,
   "metadata": {},
   "outputs": [
    {
     "name": "stdout",
     "output_type": "stream",
     "text": "hello\n"
    }
   ],
   "source": "import ukbcohort as uk"
  },
  {
   "cell_type": "markdown",
   "metadata": {},
   "source": "## Define environment variables and paths"
  },
  {
   "cell_type": "markdown",
   "metadata": {},
   "source": "This tool relies on a number of files. Some come provided in this repo, some are system specific. \nTo install the driver for a headless browser, please refer to the [read me](https://github.ibm.com/isabeki/ukbcohort/blob/master/README.md). \nThis step is necessary to interact with the UKBB database website.\n\nThis tool also assumes that you have been granted access to UKBB data for a specific project. \nA credentials file is used to store access relevant data (application id, username, and password). \nPresently, the main dataset needs to be downloaded from the UKBB website.\n\n"
  },
  {
   "cell_type": "code",
   "execution_count": 2,
   "metadata": {},
   "outputs": [],
   "source": "downloadDirectory='../dataFiles'\n\npathToShowcase='../dataFiles/showcase_toyData.csv'\npathToCoding='../dataFiles/codings_toyData.csv'\npathToReadcode='../dataFiles/readcodes_toyData.csv'\n\npathToMain='../toy-data/ukb41268_head100.csv'\n\npathToCredentials = '.'\ndriverType = 'chrome'\npathToDriver = \"prototype_notebooks/going_headless/chromedriver\"\n"
  },
  {
   "cell_type": "markdown",
   "metadata": {},
   "source": "If you want to download the latest showcase and coding files from the UKBB website, run the following cell:"
  },
  {
   "cell_type": "code",
   "execution_count": 3,
   "metadata": {},
   "outputs": [],
   "source": "uk.utils.download_latest_files(downloadDirectory=downloadDirectory)"
  },
  {
   "cell_type": "markdown",
   "metadata": {},
   "source": "## Decide which conditions are of interest"
  },
  {
   "cell_type": "markdown",
   "metadata": {},
   "source": "The curation of the cohort happens in three steps:\n1. Choose a list of relevant search terms and interactively go through all fields that contain your terms, either in the description of a field directly or in one of the associated codes. Keep in mind that **_not havign_ a condition may be as important as _having_ a condition.** All these fields should be included after the first step.\n2. Decide which of the tagged conditions are mandatory fields in your target cohort, optional fields, or fields your cohort should not have.\n3. Query the database with the resulting dictionary."
  },
  {
   "cell_type": "markdown",
   "metadata": {},
   "source": "### Step 1: Choose a list of relevant search terms:\n\nStart by defining a list of conditions you want to look out for. This list should include conditions relevant to your cohort (regardless of whether they should be excluded or included in the end). \n\nLet's start with an example. We want to end up with a cohort in which each patient has an OCT taken, has borderline glaucoma, but has never had cancer."
  },
  {
   "cell_type": "code",
   "execution_count": 3,
   "metadata": {},
   "outputs": [],
   "source": "searchTerms = ['borderline glaucoma', 'cancer', 'optical-coherence tomography']"
  },
  {
   "cell_type": "markdown",
   "metadata": {},
   "source": "Next, we search the showcase, coding descriptions, and readcodes to find possibly relevant fields. \n* We have the chance to include **'any'** codes for a particular field. This is something we would do for cancer diagnosis, since we will want to exclude anyone who has had 'any' cancer diagnosis.\n* Alternatively, we can **'choose'** which codes to include for a field. An example here is that we might want to pick a very particular diagnosis (like borderline glaucoma). \n* Entries that seem irrelevant can be skipped by hitting enter. "
  },
  {
   "cell_type": "code",
   "execution_count": 4,
   "metadata": {},
   "outputs": [
    {
     "name": "stdout",
     "output_type": "stream",
     "text": "\u001b[93mThe following fields have potentially relevant values. Please choose if you want to include all patients who have any value in this field [a], none [hit enter], or if you would like to choose specific values [c].\u001b[0m\n"
    },
    {
     "name": "stdin",
     "output_type": "stream",
     "text": "Include gp_clinical, read_3? [a/c/_]  c\n"
    },
    {
     "name": "stdout",
     "output_type": "stream",
     "text": "\u001b[1mPlease choose which codes to include [i] or skip entry [hit enter], skip rest of field [s].\u001b[0m\n"
    },
    {
     "name": "stdin",
     "output_type": "stream",
     "text": "    Include CA - Bone cancer? [i/_/s]  i\n    Include Bone cancer? [i/_/s]  i\n    Include Cancer of cervix? [i/_/s]  i\nInclude gp_clinical, read_2? [a/c/_]  c\n"
    },
    {
     "name": "stdout",
     "output_type": "stream",
     "text": "\u001b[1mPlease choose which codes to include [i] or skip entry [hit enter], skip rest of field [s].\u001b[0m\n"
    },
    {
     "name": "stdin",
     "output_type": "stream",
     "text": "    Include No history of breast cancer? [i/_/s]  \n    Include Borderline glaucoma? [i/_/s]  i\nInclude Optical-coherence tomography device ID? [a/c/_]  a\nInclude Cancer code, self-reported? [a/c/_]  a\nInclude Diagnoses - main ICD9? [a/c/_]  c\n"
    },
    {
     "name": "stdout",
     "output_type": "stream",
     "text": "\u001b[1mPlease choose which codes to include [i] or skip entry [hit enter], skip rest of field [s].\u001b[0m\n"
    },
    {
     "name": "stdin",
     "output_type": "stream",
     "text": "    Include 3650 Borderline glaucoma? [i/_/s]  i\nInclude Cancer year/age first occurred? [a/c/_]  a\nInclude Non-cancer illness code, self-reported? [a/c/_]  c\n"
    },
    {
     "name": "stdout",
     "output_type": "stream",
     "text": "\u001b[1mPlease choose which codes to include [i] or skip entry [hit enter], skip rest of field [s].\u001b[0m\n"
    },
    {
     "name": "stdin",
     "output_type": "stream",
     "text": "    Include gynaecological disorder (not cancer)? [i/_/s]  \n"
    }
   ],
   "source": "# construct the dataframe with the right files\nsearchDf = uk.filter.construct_search_df(pathToShowcase=pathToShowcase, pathToCoding=pathToCoding, pathToReadcode=pathToReadcode)\n# filter the dataframe to only contain conditions that match the search terms\nsearchDf = uk.filter.construct_candidate_df(searchDf=searchDf, searchTerms=searchTerms)\n# interactively filter conditions\nsearchDict = uk.filter.select_conditions(searchDf=searchDf)"
  },
  {
   "cell_type": "markdown",
   "metadata": {},
   "source": "### Step 2: Decide if conditions are mandatory, optional, or should be excluded"
  },
  {
   "cell_type": "markdown",
   "metadata": {},
   "source": "The searchDict now contains the information of all relevant fields. \nBy default, querying with this dictionary would result in a dataset of people who have any of the included conditions (the union of people with cancer, OCT, and borderline glaucoma). \nBut we are interested in updating this. "
  },
  {
   "cell_type": "code",
   "execution_count": 5,
   "metadata": {},
   "outputs": [
    {
     "name": "stdout",
     "output_type": "stream",
     "text": "\u001b[1mPlease choose if the following conditions are mandatory (each patient in your cohort will have this condition) \u001b[92m[m]\u001b[0m\u001b[1m, optional (all patients in your cohort will have one or more of these conditions) \u001b[94m[o]\u001b[0m\u001b[1m, or undesired (none of the patients in your cohort will have this condition) \u001b[91m[e]\u001b[0m\u001b[1m\n"
    },
    {
     "name": "stdin",
     "output_type": "stream",
     "text": "gp_clinical, read_3, Bone cancer e\ngp_clinical, read_3, Bone cancer e\ngp_clinical, read_3, Cancer of cervix e\ngp_clinical, read_2, Borderline glaucoma o\nOptical-coherence tomography device ID, any m\nCancer code, self-reported, any e\nDiagnoses - main ICD9, 3650 Borderline glaucoma i\nCancer year/age first occurred, any e\n"
    }
   ],
   "source": "searchDict = uk.filter.update_inclusion_logic(searchDict=searchDict, searchDf=searchDf)"
  },
  {
   "cell_type": "markdown",
   "metadata": {},
   "source": "#### Please note"
  },
  {
   "cell_type": "markdown",
   "metadata": {},
   "source": "<img width='50%' src=\"cohort_selection.png\" />"
  },
  {
   "cell_type": "markdown",
   "metadata": {},
   "source": "Using **m**, we can set a field + value as a mandatory entry. Any patient returned in the cohort will have this condition. In our case, we want any patient returned to have OCT images. \n\nWhen several fields can contain the same diagnosis, we can use **o** to include any of the following. In our cohort, we don't care about who diagnosed borderline glaucoma. We are happy to include to union of people who told their gp of their condition and who got diagnosed with it in a hospital.\n\nUsing **e** on a key means that we want patients who have had this condition removed from our final set of patients. We would like all patients that had any cancer condition to be removed. "
  },
  {
   "cell_type": "markdown",
   "metadata": {},
   "source": "### Step 3: Use the searchDict to query all databases"
  },
  {
   "cell_type": "code",
   "execution_count": 6,
   "metadata": {},
   "outputs": [],
   "source": "queryStrings = uk.query.createQueryStrings(searchDict=searchDict, pathToMain=pathToMain)"
  },
  {
   "cell_type": "code",
   "execution_count": 7,
   "metadata": {},
   "outputs": [
    {
     "name": "stdout",
     "output_type": "stream",
     "text": "Querying pg_clinical table with: SELECT distinct eid FROM gp_clinical WHERE read_2 = 'F450.'\nQuerying pg_clinical table with: SELECT distinct eid FROM gp_clinical WHERE read_3 = 'XE1vd' OR read_3 = 'XE1vd' OR read_3 = 'XE1vi'\nQuerying main dataset with: (t5270_0_0.notnull() or t5270_1_0.notnull())\nQuerying main dataset with: (t20001_0_0.notnull() or t20001_0_1.notnull() or t20001_0_2.notnull() or t20001_0_3.notnull() or t20001_0_4.notnull() or t20001_0_5.notnull() or t20001_1_0.notnull() or t20001_1_1.notnull() or t20001_1_2.notnull() or t20001_1_3.notnull() or t20001_1_4.notnull() or t20001_1_5.notnull() or t20001_2_0.notnull() or t20001_2_1.notnull() or t20001_2_2.notnull() or t20001_2_3.notnull() or t20001_2_4.notnull() or t20001_2_5.notnull() or t20001_3_0.notnull() or t20001_3_1.notnull() or t20001_3_2.notnull() or t20001_3_3.notnull() or t20001_3_4.notnull() or t20001_3_5.notnull()) or (t84_0_0.notnull() or t84_0_1.notnull() or t84_0_2.notnull() or t84_0_3.notnull() or t84_0_4.notnull() or t84_0_5.notnull() or t84_1_0.notnull() or t84_1_1.notnull() or t84_1_2.notnull() or t84_1_3.notnull() or t84_1_4.notnull() or t84_1_5.notnull() or t84_2_0.notnull() or t84_2_1.notnull() or t84_2_2.notnull() or t84_2_3.notnull() or t84_2_4.notnull() or t84_2_5.notnull() or t84_3_0.notnull() or t84_3_1.notnull() or t84_3_2.notnull() or t84_3_3.notnull() or t84_3_4.notnull() or t84_3_5.notnull())\n"
    }
   ],
   "source": "eids = uk.query.query_databases(searchDict=searchDict, queryStrings=queryStrings, pathToMain=pathToMain, pathToCredentials=pathToCredentials, pathToDriver=pathToDriver, driverType='chrome')"
  },
  {
   "cell_type": "code",
   "execution_count": 34,
   "metadata": {},
   "outputs": [
    {
     "ename": "KeyError",
     "evalue": "0",
     "output_type": "error",
     "traceback": [
      "\u001b[0;31m---------------------------------------------------------------------------\u001b[0m",
      "\u001b[0;31mKeyError\u001b[0m                                  Traceback (most recent call last)",
      "\u001b[0;32m<ipython-input-34-47f539697f40>\u001b[0m in \u001b[0;36m<module>\u001b[0;34m\u001b[0m\n\u001b[0;32m----> 1\u001b[0;31m \u001b[0mprint\u001b[0m\u001b[0;34m(\u001b[0m\u001b[0;34m'The final cohort contains {} patients'\u001b[0m\u001b[0;34m.\u001b[0m\u001b[0mformat\u001b[0m\u001b[0;34m(\u001b[0m\u001b[0meids\u001b[0m\u001b[0;34m[\u001b[0m\u001b[0;36m0\u001b[0m\u001b[0;34m]\u001b[0m\u001b[0;34m)\u001b[0m\u001b[0;34m)\u001b[0m\u001b[0;34m\u001b[0m\u001b[0;34m\u001b[0m\u001b[0m\n\u001b[0m",
      "\u001b[0;31mKeyError\u001b[0m: 0"
     ]
    }
   ],
   "source": "print('The final cohort contains {} patients'.format(eids[0]))"
  },
  {
   "cell_type": "code",
   "execution_count": 2,
   "metadata": {},
   "outputs": [],
   "source": "import pandas as pd"
  },
  {
   "cell_type": "code",
   "execution_count": 5,
   "metadata": {},
   "outputs": [
    {
     "data": {},
     "execution_count": 5,
     "metadata": {},
     "output_type": "execute_result"
    }
   ],
   "source": "type(pd.DataFrame)"
  },
  {
   "cell_type": "code",
   "execution_count": 6,
   "metadata": {},
   "outputs": [],
   "source": "i = 0"
  },
  {
   "cell_type": "code",
   "execution_count": 7,
   "metadata": {},
   "outputs": [],
   "source": "if i: \n    print(i)"
  },
  {
   "cell_type": "code",
   "execution_count": null,
   "metadata": {},
   "outputs": [],
   "source": ""
  }
 ],
 "metadata": {
  "kernelspec": {
   "display_name": "Python 3",
   "language": "python",
   "name": "python3"
  },
  "language_info": {
   "codemirror_mode": {
    "name": "ipython",
    "version": 2
   },
   "file_extension": ".py",
   "mimetype": "text/x-python",
   "name": "python",
   "nbconvert_exporter": "python",
   "pygments_lexer": "ipython2",
   "version": "2.7.15"
  }
 },
 "nbformat": 4,
 "nbformat_minor": 4
}
